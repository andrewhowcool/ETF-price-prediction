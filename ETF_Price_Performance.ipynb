{
 "cells": [
  {
   "cell_type": "markdown",
   "metadata": {
    "colab_type": "text",
    "id": "JyNU6pNuVVBb"
   },
   "source": [
    "趨勢科技 : 台灣ETF價格預測競賽\n",
    "---\n",
    "Kenny Hsieh, 2018/4/30\n",
    "\n",
    "- [官方競賽網站](https://tbrain.trendmicro.com.tw/Competitions/Details/2)\n",
    "- `ETF_Modeling.ipynb` : 資料讀取、資料處理、模型建立、輸出預測結果(目前僅能預測一天)\n",
    "- `ETF_Price_Performance.ipynb` : 衡量預測結果，計算分數\n",
    "\n",
    "## Brief Introduction\n",
    "- 已完成資料處理、建立模型到最終預測結果，此階段為計算模型表現\n",
    "- 衡量表現依據官方網站評分規則計算，如下圖\n",
    "\n",
    "![](https://i.imgur.com/ebHOIzA.png =500x)"
   ]
  },
  {
   "cell_type": "code",
   "execution_count": 40,
   "metadata": {
    "colab": {
     "autoexec": {
      "startup": false,
      "wait_interval": 0
     },
     "base_uri": "https://localhost:8080/",
     "height": 69,
     "resources": {
      "http://localhost:8080/nbextensions/google.colab/files.js": {
       "data": "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",
       "headers": [
        [
         "content-type",
         "application/javascript"
        ]
       ],
       "ok": true,
       "status": 200,
       "status_text": ""
      }
     }
    },
    "colab_type": "code",
    "executionInfo": {
     "elapsed": 7509,
     "status": "ok",
     "timestamp": 1525271354056,
     "user": {
      "displayName": "Kenny Hsieh",
      "photoUrl": "//lh6.googleusercontent.com/-cWWSIkjl7Eo/AAAAAAAAAAI/AAAAAAAA86s/jURqY4aeDO0/s50-c-k-no/photo.jpg",
      "userId": "106741566483718677044"
     },
     "user_tz": -480
    },
    "id": "TJAFK-JU7cIa",
    "outputId": "afc7256b-99a4-4dde-f0ee-c2b1ba0bc46d"
   },
   "outputs": [
    {
     "data": {
      "text/html": [
       "\n",
       "     <input type=\"file\" id=\"files-75ef0486-527f-4931-9d4c-2b77d5d67f7d\" name=\"files[]\" multiple disabled />\n",
       "     <output id=\"result-75ef0486-527f-4931-9d4c-2b77d5d67f7d\">\n",
       "      Upload widget is only available when the cell has been executed in the\n",
       "      current browser session. Please rerun this cell to enable.\n",
       "      </output>\n",
       "      <script src=\"/nbextensions/google.colab/files.js\"></script> "
      ],
      "text/plain": [
       "<IPython.core.display.HTML object>"
      ]
     },
     "metadata": {
      "tags": []
     },
     "output_type": "display_data"
    },
    {
     "name": "stdout",
     "output_type": "stream",
     "text": [
      "Saving actual_result.csv to actual_result.csv\n"
     ]
    }
   ],
   "source": [
    "from google.colab import files\n",
    "\n",
    "uploaded = files.upload()"
   ]
  },
  {
   "cell_type": "markdown",
   "metadata": {
    "colab_type": "text",
    "id": "O0D-lyUKaFPO"
   },
   "source": [
    "## Load the Predict Result\n",
    "- 讀取 `ETF_Modeling` 預測結果"
   ]
  },
  {
   "cell_type": "code",
   "execution_count": 41,
   "metadata": {
    "colab": {
     "autoexec": {
      "startup": false,
      "wait_interval": 0
     },
     "base_uri": "https://localhost:8080/",
     "height": 204
    },
    "colab_type": "code",
    "executionInfo": {
     "elapsed": 863,
     "status": "ok",
     "timestamp": 1525271356082,
     "user": {
      "displayName": "Kenny Hsieh",
      "photoUrl": "//lh6.googleusercontent.com/-cWWSIkjl7Eo/AAAAAAAAAAI/AAAAAAAA86s/jURqY4aeDO0/s50-c-k-no/photo.jpg",
      "userId": "106741566483718677044"
     },
     "user_tz": -480
    },
    "id": "ej4tHU3c7mNF",
    "outputId": "3ca429a6-5ea4-42eb-c8ea-7de4ded49e7a"
   },
   "outputs": [
    {
     "data": {
      "text/html": [
       "<div>\n",
       "<style scoped>\n",
       "    .dataframe tbody tr th:only-of-type {\n",
       "        vertical-align: middle;\n",
       "    }\n",
       "\n",
       "    .dataframe tbody tr th {\n",
       "        vertical-align: top;\n",
       "    }\n",
       "\n",
       "    .dataframe thead th {\n",
       "        text-align: right;\n",
       "    }\n",
       "</style>\n",
       "<table border=\"1\" class=\"dataframe\">\n",
       "  <thead>\n",
       "    <tr style=\"text-align: right;\">\n",
       "      <th></th>\n",
       "      <th>Code</th>\n",
       "      <th>Date</th>\n",
       "      <th>Trend</th>\n",
       "      <th>Predict</th>\n",
       "    </tr>\n",
       "  </thead>\n",
       "  <tbody>\n",
       "    <tr>\n",
       "      <th>0</th>\n",
       "      <td>0050</td>\n",
       "      <td>2018-04-30</td>\n",
       "      <td>1</td>\n",
       "      <td>79.486275</td>\n",
       "    </tr>\n",
       "    <tr>\n",
       "      <th>1</th>\n",
       "      <td>0051</td>\n",
       "      <td>2018-04-30</td>\n",
       "      <td>-1</td>\n",
       "      <td>31.813707</td>\n",
       "    </tr>\n",
       "    <tr>\n",
       "      <th>2</th>\n",
       "      <td>0052</td>\n",
       "      <td>2018-04-30</td>\n",
       "      <td>-1</td>\n",
       "      <td>52.205582</td>\n",
       "    </tr>\n",
       "    <tr>\n",
       "      <th>3</th>\n",
       "      <td>0053</td>\n",
       "      <td>2018-04-30</td>\n",
       "      <td>-1</td>\n",
       "      <td>34.138184</td>\n",
       "    </tr>\n",
       "    <tr>\n",
       "      <th>4</th>\n",
       "      <td>0054</td>\n",
       "      <td>2018-04-30</td>\n",
       "      <td>-1</td>\n",
       "      <td>23.049755</td>\n",
       "    </tr>\n",
       "  </tbody>\n",
       "</table>\n",
       "</div>"
      ],
      "text/plain": [
       "   Code        Date  Trend    Predict\n",
       "0  0050  2018-04-30      1  79.486275\n",
       "1  0051  2018-04-30     -1  31.813707\n",
       "2  0052  2018-04-30     -1  52.205582\n",
       "3  0053  2018-04-30     -1  34.138184\n",
       "4  0054  2018-04-30     -1  23.049755"
      ]
     },
     "execution_count": 41,
     "metadata": {
      "tags": []
     },
     "output_type": "execute_result"
    }
   ],
   "source": [
    "import pandas as pd\n",
    "\n",
    "predict_result = pd.read_csv(\"predict_result.csv\")\n",
    "predict_result[\"Code\"] = predict_result[\"Code\"].astype(str).map(lambda x: \"00\" + x)\n",
    "predict_result.head()"
   ]
  },
  {
   "cell_type": "markdown",
   "metadata": {
    "colab_type": "text",
    "id": "jdlx4yMEaUsC"
   },
   "source": [
    "## Load the Actual Result & Combine with Prediction\n",
    "- 讀取 4/30 18檔 ETF 實際漲跌、股價資料"
   ]
  },
  {
   "cell_type": "code",
   "execution_count": 42,
   "metadata": {
    "colab": {
     "autoexec": {
      "startup": false,
      "wait_interval": 0
     },
     "base_uri": "https://localhost:8080/",
     "height": 204
    },
    "colab_type": "code",
    "executionInfo": {
     "elapsed": 828,
     "status": "ok",
     "timestamp": 1525271357821,
     "user": {
      "displayName": "Kenny Hsieh",
      "photoUrl": "//lh6.googleusercontent.com/-cWWSIkjl7Eo/AAAAAAAAAAI/AAAAAAAA86s/jURqY4aeDO0/s50-c-k-no/photo.jpg",
      "userId": "106741566483718677044"
     },
     "user_tz": -480
    },
    "id": "IIWS9MARKAsU",
    "outputId": "2bdafbc7-9eb8-4bb6-bd7b-f85622f1a01a"
   },
   "outputs": [
    {
     "data": {
      "text/html": [
       "<div>\n",
       "<style scoped>\n",
       "    .dataframe tbody tr th:only-of-type {\n",
       "        vertical-align: middle;\n",
       "    }\n",
       "\n",
       "    .dataframe tbody tr th {\n",
       "        vertical-align: top;\n",
       "    }\n",
       "\n",
       "    .dataframe thead th {\n",
       "        text-align: right;\n",
       "    }\n",
       "</style>\n",
       "<table border=\"1\" class=\"dataframe\">\n",
       "  <thead>\n",
       "    <tr style=\"text-align: right;\">\n",
       "      <th></th>\n",
       "      <th>Code</th>\n",
       "      <th>Price_430</th>\n",
       "      <th>Trend_430</th>\n",
       "    </tr>\n",
       "  </thead>\n",
       "  <tbody>\n",
       "    <tr>\n",
       "      <th>0</th>\n",
       "      <td>50</td>\n",
       "      <td>80.00</td>\n",
       "      <td>1</td>\n",
       "    </tr>\n",
       "    <tr>\n",
       "      <th>1</th>\n",
       "      <td>51</td>\n",
       "      <td>32.02</td>\n",
       "      <td>-1</td>\n",
       "    </tr>\n",
       "    <tr>\n",
       "      <th>2</th>\n",
       "      <td>52</td>\n",
       "      <td>53.60</td>\n",
       "      <td>1</td>\n",
       "    </tr>\n",
       "    <tr>\n",
       "      <th>3</th>\n",
       "      <td>53</td>\n",
       "      <td>34.52</td>\n",
       "      <td>1</td>\n",
       "    </tr>\n",
       "    <tr>\n",
       "      <th>4</th>\n",
       "      <td>54</td>\n",
       "      <td>23.23</td>\n",
       "      <td>1</td>\n",
       "    </tr>\n",
       "  </tbody>\n",
       "</table>\n",
       "</div>"
      ],
      "text/plain": [
       "   Code  Price_430  Trend_430\n",
       "0    50      80.00          1\n",
       "1    51      32.02         -1\n",
       "2    52      53.60          1\n",
       "3    53      34.52          1\n",
       "4    54      23.23          1"
      ]
     },
     "execution_count": 42,
     "metadata": {
      "tags": []
     },
     "output_type": "execute_result"
    }
   ],
   "source": [
    "actual_result = pd.read_csv(\"actual_result.csv\")\n",
    "actual_result.head()"
   ]
  },
  {
   "cell_type": "code",
   "execution_count": 43,
   "metadata": {
    "colab": {
     "autoexec": {
      "startup": false,
      "wait_interval": 0
     },
     "base_uri": "https://localhost:8080/",
     "height": 204
    },
    "colab_type": "code",
    "executionInfo": {
     "elapsed": 836,
     "status": "ok",
     "timestamp": 1525271360694,
     "user": {
      "displayName": "Kenny Hsieh",
      "photoUrl": "//lh6.googleusercontent.com/-cWWSIkjl7Eo/AAAAAAAAAAI/AAAAAAAA86s/jURqY4aeDO0/s50-c-k-no/photo.jpg",
      "userId": "106741566483718677044"
     },
     "user_tz": -480
    },
    "id": "4Cm5EB_SEMW9",
    "outputId": "2134bc73-ebb3-4e3c-c0b4-09cba7e327ee"
   },
   "outputs": [
    {
     "data": {
      "text/html": [
       "<div>\n",
       "<style scoped>\n",
       "    .dataframe tbody tr th:only-of-type {\n",
       "        vertical-align: middle;\n",
       "    }\n",
       "\n",
       "    .dataframe tbody tr th {\n",
       "        vertical-align: top;\n",
       "    }\n",
       "\n",
       "    .dataframe thead th {\n",
       "        text-align: right;\n",
       "    }\n",
       "</style>\n",
       "<table border=\"1\" class=\"dataframe\">\n",
       "  <thead>\n",
       "    <tr style=\"text-align: right;\">\n",
       "      <th></th>\n",
       "      <th>Code</th>\n",
       "      <th>Date</th>\n",
       "      <th>Trend</th>\n",
       "      <th>Predict</th>\n",
       "      <th>Price_430</th>\n",
       "      <th>Trend_430</th>\n",
       "    </tr>\n",
       "  </thead>\n",
       "  <tbody>\n",
       "    <tr>\n",
       "      <th>0</th>\n",
       "      <td>0050</td>\n",
       "      <td>2018-04-30</td>\n",
       "      <td>1</td>\n",
       "      <td>79.486275</td>\n",
       "      <td>80.00</td>\n",
       "      <td>1</td>\n",
       "    </tr>\n",
       "    <tr>\n",
       "      <th>1</th>\n",
       "      <td>0051</td>\n",
       "      <td>2018-04-30</td>\n",
       "      <td>-1</td>\n",
       "      <td>31.813707</td>\n",
       "      <td>32.02</td>\n",
       "      <td>-1</td>\n",
       "    </tr>\n",
       "    <tr>\n",
       "      <th>2</th>\n",
       "      <td>0052</td>\n",
       "      <td>2018-04-30</td>\n",
       "      <td>-1</td>\n",
       "      <td>52.205582</td>\n",
       "      <td>53.60</td>\n",
       "      <td>1</td>\n",
       "    </tr>\n",
       "    <tr>\n",
       "      <th>3</th>\n",
       "      <td>0053</td>\n",
       "      <td>2018-04-30</td>\n",
       "      <td>-1</td>\n",
       "      <td>34.138184</td>\n",
       "      <td>34.52</td>\n",
       "      <td>1</td>\n",
       "    </tr>\n",
       "    <tr>\n",
       "      <th>4</th>\n",
       "      <td>0054</td>\n",
       "      <td>2018-04-30</td>\n",
       "      <td>-1</td>\n",
       "      <td>23.049755</td>\n",
       "      <td>23.23</td>\n",
       "      <td>1</td>\n",
       "    </tr>\n",
       "  </tbody>\n",
       "</table>\n",
       "</div>"
      ],
      "text/plain": [
       "   Code        Date  Trend    Predict  Price_430  Trend_430\n",
       "0  0050  2018-04-30      1  79.486275      80.00          1\n",
       "1  0051  2018-04-30     -1  31.813707      32.02         -1\n",
       "2  0052  2018-04-30     -1  52.205582      53.60          1\n",
       "3  0053  2018-04-30     -1  34.138184      34.52          1\n",
       "4  0054  2018-04-30     -1  23.049755      23.23          1"
      ]
     },
     "execution_count": 43,
     "metadata": {
      "tags": []
     },
     "output_type": "execute_result"
    }
   ],
   "source": [
    "evaluate_predict = pd.concat([predict_result, actual_result], axis = 1)\n",
    "evaluate_predict = evaluate_predict.iloc[:, [0, 1, 2, 3, 5, 6]]\n",
    "evaluate_predict.head()"
   ]
  },
  {
   "cell_type": "markdown",
   "metadata": {
    "colab_type": "text",
    "id": "j1mviOQ0alt5"
   },
   "source": [
    "## Measure the Model Performance\n",
    "若是完全預測漲跌、股價滿分為18分\n",
    "- `Trend Score` : 漲跌預測正確得 0.5 \n",
    "- `Price Score` : 依據競賽規則計算分數 (此部分滿分為 0.5)"
   ]
  },
  {
   "cell_type": "code",
   "execution_count": 50,
   "metadata": {
    "colab": {
     "autoexec": {
      "startup": false,
      "wait_interval": 0
     },
     "base_uri": "https://localhost:8080/",
     "height": 607
    },
    "colab_type": "code",
    "executionInfo": {
     "elapsed": 924,
     "status": "ok",
     "timestamp": 1525271519595,
     "user": {
      "displayName": "Kenny Hsieh",
      "photoUrl": "//lh6.googleusercontent.com/-cWWSIkjl7Eo/AAAAAAAAAAI/AAAAAAAA86s/jURqY4aeDO0/s50-c-k-no/photo.jpg",
      "userId": "106741566483718677044"
     },
     "user_tz": -480
    },
    "id": "7YvgxJI1HTwg",
    "outputId": "515740f0-54ba-435d-f86f-60bbc9062314"
   },
   "outputs": [
    {
     "data": {
      "text/html": [
       "<div>\n",
       "<style scoped>\n",
       "    .dataframe tbody tr th:only-of-type {\n",
       "        vertical-align: middle;\n",
       "    }\n",
       "\n",
       "    .dataframe tbody tr th {\n",
       "        vertical-align: top;\n",
       "    }\n",
       "\n",
       "    .dataframe thead th {\n",
       "        text-align: right;\n",
       "    }\n",
       "</style>\n",
       "<table border=\"1\" class=\"dataframe\">\n",
       "  <thead>\n",
       "    <tr style=\"text-align: right;\">\n",
       "      <th></th>\n",
       "      <th>Code</th>\n",
       "      <th>Date</th>\n",
       "      <th>Trend</th>\n",
       "      <th>Predict</th>\n",
       "      <th>Price_430</th>\n",
       "      <th>Trend_430</th>\n",
       "      <th>Price_Score</th>\n",
       "      <th>Trend_Score</th>\n",
       "      <th>Final_Score</th>\n",
       "    </tr>\n",
       "  </thead>\n",
       "  <tbody>\n",
       "    <tr>\n",
       "      <th>0</th>\n",
       "      <td>0050</td>\n",
       "      <td>2018-04-30</td>\n",
       "      <td>1</td>\n",
       "      <td>79.486275</td>\n",
       "      <td>80.00</td>\n",
       "      <td>1</td>\n",
       "      <td>0.496789</td>\n",
       "      <td>0.5</td>\n",
       "      <td>0.996789</td>\n",
       "    </tr>\n",
       "    <tr>\n",
       "      <th>1</th>\n",
       "      <td>0051</td>\n",
       "      <td>2018-04-30</td>\n",
       "      <td>-1</td>\n",
       "      <td>31.813707</td>\n",
       "      <td>32.02</td>\n",
       "      <td>-1</td>\n",
       "      <td>0.496779</td>\n",
       "      <td>0.5</td>\n",
       "      <td>0.996779</td>\n",
       "    </tr>\n",
       "    <tr>\n",
       "      <th>2</th>\n",
       "      <td>0052</td>\n",
       "      <td>2018-04-30</td>\n",
       "      <td>-1</td>\n",
       "      <td>52.205582</td>\n",
       "      <td>53.60</td>\n",
       "      <td>1</td>\n",
       "      <td>0.486992</td>\n",
       "      <td>0.0</td>\n",
       "      <td>0.486992</td>\n",
       "    </tr>\n",
       "    <tr>\n",
       "      <th>3</th>\n",
       "      <td>0053</td>\n",
       "      <td>2018-04-30</td>\n",
       "      <td>-1</td>\n",
       "      <td>34.138184</td>\n",
       "      <td>34.52</td>\n",
       "      <td>1</td>\n",
       "      <td>0.494470</td>\n",
       "      <td>0.0</td>\n",
       "      <td>0.494470</td>\n",
       "    </tr>\n",
       "    <tr>\n",
       "      <th>4</th>\n",
       "      <td>0054</td>\n",
       "      <td>2018-04-30</td>\n",
       "      <td>-1</td>\n",
       "      <td>23.049755</td>\n",
       "      <td>23.23</td>\n",
       "      <td>1</td>\n",
       "      <td>0.496120</td>\n",
       "      <td>0.0</td>\n",
       "      <td>0.496120</td>\n",
       "    </tr>\n",
       "    <tr>\n",
       "      <th>5</th>\n",
       "      <td>0055</td>\n",
       "      <td>2018-04-30</td>\n",
       "      <td>-1</td>\n",
       "      <td>16.896467</td>\n",
       "      <td>17.20</td>\n",
       "      <td>1</td>\n",
       "      <td>0.491176</td>\n",
       "      <td>0.0</td>\n",
       "      <td>0.491176</td>\n",
       "    </tr>\n",
       "    <tr>\n",
       "      <th>6</th>\n",
       "      <td>0056</td>\n",
       "      <td>2018-04-30</td>\n",
       "      <td>-1</td>\n",
       "      <td>25.056149</td>\n",
       "      <td>25.40</td>\n",
       "      <td>1</td>\n",
       "      <td>0.493231</td>\n",
       "      <td>0.0</td>\n",
       "      <td>0.493231</td>\n",
       "    </tr>\n",
       "    <tr>\n",
       "      <th>7</th>\n",
       "      <td>0057</td>\n",
       "      <td>2018-04-30</td>\n",
       "      <td>-1</td>\n",
       "      <td>48.434689</td>\n",
       "      <td>49.31</td>\n",
       "      <td>1</td>\n",
       "      <td>0.491124</td>\n",
       "      <td>0.0</td>\n",
       "      <td>0.491124</td>\n",
       "    </tr>\n",
       "    <tr>\n",
       "      <th>8</th>\n",
       "      <td>0058</td>\n",
       "      <td>2018-04-30</td>\n",
       "      <td>1</td>\n",
       "      <td>45.758862</td>\n",
       "      <td>45.45</td>\n",
       "      <td>1</td>\n",
       "      <td>0.496602</td>\n",
       "      <td>0.5</td>\n",
       "      <td>0.996602</td>\n",
       "    </tr>\n",
       "    <tr>\n",
       "      <th>9</th>\n",
       "      <td>0059</td>\n",
       "      <td>2018-04-30</td>\n",
       "      <td>-1</td>\n",
       "      <td>41.104889</td>\n",
       "      <td>42.00</td>\n",
       "      <td>1</td>\n",
       "      <td>0.489344</td>\n",
       "      <td>0.0</td>\n",
       "      <td>0.489344</td>\n",
       "    </tr>\n",
       "    <tr>\n",
       "      <th>10</th>\n",
       "      <td>006201</td>\n",
       "      <td>2018-04-30</td>\n",
       "      <td>-1</td>\n",
       "      <td>13.223225</td>\n",
       "      <td>13.44</td>\n",
       "      <td>1</td>\n",
       "      <td>0.491935</td>\n",
       "      <td>0.0</td>\n",
       "      <td>0.491935</td>\n",
       "    </tr>\n",
       "    <tr>\n",
       "      <th>11</th>\n",
       "      <td>006203</td>\n",
       "      <td>2018-04-30</td>\n",
       "      <td>1</td>\n",
       "      <td>37.033825</td>\n",
       "      <td>37.24</td>\n",
       "      <td>1</td>\n",
       "      <td>0.497232</td>\n",
       "      <td>0.5</td>\n",
       "      <td>0.997232</td>\n",
       "    </tr>\n",
       "    <tr>\n",
       "      <th>12</th>\n",
       "      <td>006204</td>\n",
       "      <td>2018-04-30</td>\n",
       "      <td>-1</td>\n",
       "      <td>52.034912</td>\n",
       "      <td>52.55</td>\n",
       "      <td>1</td>\n",
       "      <td>0.495099</td>\n",
       "      <td>0.0</td>\n",
       "      <td>0.495099</td>\n",
       "    </tr>\n",
       "    <tr>\n",
       "      <th>13</th>\n",
       "      <td>006208</td>\n",
       "      <td>2018-04-30</td>\n",
       "      <td>-1</td>\n",
       "      <td>45.840836</td>\n",
       "      <td>46.90</td>\n",
       "      <td>1</td>\n",
       "      <td>0.488708</td>\n",
       "      <td>0.0</td>\n",
       "      <td>0.488708</td>\n",
       "    </tr>\n",
       "    <tr>\n",
       "      <th>14</th>\n",
       "      <td>00690</td>\n",
       "      <td>2018-04-30</td>\n",
       "      <td>1</td>\n",
       "      <td>21.790834</td>\n",
       "      <td>22.00</td>\n",
       "      <td>1</td>\n",
       "      <td>0.495246</td>\n",
       "      <td>0.5</td>\n",
       "      <td>0.995246</td>\n",
       "    </tr>\n",
       "    <tr>\n",
       "      <th>15</th>\n",
       "      <td>00692</td>\n",
       "      <td>2018-04-30</td>\n",
       "      <td>1</td>\n",
       "      <td>20.979530</td>\n",
       "      <td>21.04</td>\n",
       "      <td>1</td>\n",
       "      <td>0.498563</td>\n",
       "      <td>0.5</td>\n",
       "      <td>0.998563</td>\n",
       "    </tr>\n",
       "    <tr>\n",
       "      <th>16</th>\n",
       "      <td>00701</td>\n",
       "      <td>2018-04-30</td>\n",
       "      <td>-1</td>\n",
       "      <td>20.853003</td>\n",
       "      <td>21.00</td>\n",
       "      <td>1</td>\n",
       "      <td>0.496500</td>\n",
       "      <td>0.0</td>\n",
       "      <td>0.496500</td>\n",
       "    </tr>\n",
       "    <tr>\n",
       "      <th>17</th>\n",
       "      <td>00713</td>\n",
       "      <td>2018-04-30</td>\n",
       "      <td>1</td>\n",
       "      <td>30.204332</td>\n",
       "      <td>30.32</td>\n",
       "      <td>1</td>\n",
       "      <td>0.498093</td>\n",
       "      <td>0.5</td>\n",
       "      <td>0.998093</td>\n",
       "    </tr>\n",
       "  </tbody>\n",
       "</table>\n",
       "</div>"
      ],
      "text/plain": [
       "      Code        Date  Trend    Predict  Price_430  Trend_430  Price_Score  \\\n",
       "0     0050  2018-04-30      1  79.486275      80.00          1     0.496789   \n",
       "1     0051  2018-04-30     -1  31.813707      32.02         -1     0.496779   \n",
       "2     0052  2018-04-30     -1  52.205582      53.60          1     0.486992   \n",
       "3     0053  2018-04-30     -1  34.138184      34.52          1     0.494470   \n",
       "4     0054  2018-04-30     -1  23.049755      23.23          1     0.496120   \n",
       "5     0055  2018-04-30     -1  16.896467      17.20          1     0.491176   \n",
       "6     0056  2018-04-30     -1  25.056149      25.40          1     0.493231   \n",
       "7     0057  2018-04-30     -1  48.434689      49.31          1     0.491124   \n",
       "8     0058  2018-04-30      1  45.758862      45.45          1     0.496602   \n",
       "9     0059  2018-04-30     -1  41.104889      42.00          1     0.489344   \n",
       "10  006201  2018-04-30     -1  13.223225      13.44          1     0.491935   \n",
       "11  006203  2018-04-30      1  37.033825      37.24          1     0.497232   \n",
       "12  006204  2018-04-30     -1  52.034912      52.55          1     0.495099   \n",
       "13  006208  2018-04-30     -1  45.840836      46.90          1     0.488708   \n",
       "14   00690  2018-04-30      1  21.790834      22.00          1     0.495246   \n",
       "15   00692  2018-04-30      1  20.979530      21.04          1     0.498563   \n",
       "16   00701  2018-04-30     -1  20.853003      21.00          1     0.496500   \n",
       "17   00713  2018-04-30      1  30.204332      30.32          1     0.498093   \n",
       "\n",
       "    Trend_Score  Final_Score  \n",
       "0           0.5     0.996789  \n",
       "1           0.5     0.996779  \n",
       "2           0.0     0.486992  \n",
       "3           0.0     0.494470  \n",
       "4           0.0     0.496120  \n",
       "5           0.0     0.491176  \n",
       "6           0.0     0.493231  \n",
       "7           0.0     0.491124  \n",
       "8           0.5     0.996602  \n",
       "9           0.0     0.489344  \n",
       "10          0.0     0.491935  \n",
       "11          0.5     0.997232  \n",
       "12          0.0     0.495099  \n",
       "13          0.0     0.488708  \n",
       "14          0.5     0.995246  \n",
       "15          0.5     0.998563  \n",
       "16          0.0     0.496500  \n",
       "17          0.5     0.998093  "
      ]
     },
     "execution_count": 50,
     "metadata": {
      "tags": []
     },
     "output_type": "execute_result"
    }
   ],
   "source": [
    "# 依據公式計算股價分數\n",
    "evaluate_predict[\"Price_Score\"] = ((evaluate_predict[\"Price_430\"] - abs(evaluate_predict[\"Predict\"] - evaluate_predict[\"Price_430\"])) / evaluate_predict[\"Price_430\"]) * 0.5\n",
    "\n",
    "# 計算漲跌正確分數\n",
    "evaluate_predict[\"Trend_Score\"] = evaluate_predict[\"Trend\"] - evaluate_predict[\"Trend_430\"] \n",
    "evaluate_predict[\"Trend_Score\"] = evaluate_predict[\"Trend_Score\"].map(lambda x : 0.5 if x == 0 else 0)\n",
    "\n",
    "# 上述兩項分數加總\n",
    "evaluate_predict[\"Final_Score\"] = evaluate_predict[\"Price_Score\"] + evaluate_predict[\"Trend_Score\"]\n",
    "evaluate_predict"
   ]
  },
  {
   "cell_type": "markdown",
   "metadata": {
    "colab_type": "text",
    "id": "ucS2uDJ5bb98"
   },
   "source": [
    "## Conclusion\n",
    "- 最終預測模型表現得分為 `12.39` (滿分為 `18`)\n",
    "- 觀察模型表現\n",
    "  - 股票漲跌：在此部分失去相當多分數，觀察有可能為 LSTM 有 lag 的情況所導致，且 4/30 當日大盤齊揚，相較於 4/27 有反彈的走勢，因此模型錯評股票漲跌。\n",
    "  - 股價差距：在此部分表現則相當良好，得分皆有達 0.49 左右，與實際股價相差不遠。不過也有可能是 ETF 與大盤波動的特性，因此 ETF 股價鮮少有巨量的震盪。\n",
    "- 未來努力方向\n",
    "  - 調整 LSTM 網路架構，加入更多 LSTM 層、神經節點個數等，目標減少 LSTM lag 的狀況。\n",
    "  - 掌握財金知識，納入財金指標 (MA, KD 等指標)，讓模型擁有更多學習資訊。"
   ]
  },
  {
   "cell_type": "code",
   "execution_count": 52,
   "metadata": {
    "colab": {
     "autoexec": {
      "startup": false,
      "wait_interval": 0
     },
     "base_uri": "https://localhost:8080/",
     "height": 34
    },
    "colab_type": "code",
    "executionInfo": {
     "elapsed": 1030,
     "status": "ok",
     "timestamp": 1525271551157,
     "user": {
      "displayName": "Kenny Hsieh",
      "photoUrl": "//lh6.googleusercontent.com/-cWWSIkjl7Eo/AAAAAAAAAAI/AAAAAAAA86s/jURqY4aeDO0/s50-c-k-no/photo.jpg",
      "userId": "106741566483718677044"
     },
     "user_tz": -480
    },
    "id": "wEvbq2IhRHzv",
    "outputId": "aa638eac-a0de-4aab-e884-239db0e1dafe"
   },
   "outputs": [
    {
     "data": {
      "text/plain": [
       "12.394004897485868"
      ]
     },
     "execution_count": 52,
     "metadata": {
      "tags": []
     },
     "output_type": "execute_result"
    }
   ],
   "source": [
    "# 計算最終模型表現\n",
    "\n",
    "Total_score = evaluate_predict[\"Final_Score\"].sum()\n",
    "Total_score"
   ]
  }
 ],
 "metadata": {
  "colab": {
   "collapsed_sections": [],
   "default_view": {},
   "name": "ETF_Price_Performance.ipynb",
   "provenance": [],
   "version": "0.3.2",
   "views": {}
  },
  "kernelspec": {
   "display_name": "Python 3",
   "language": "python",
   "name": "python3"
  },
  "language_info": {
   "codemirror_mode": {
    "name": "ipython",
    "version": 3
   },
   "file_extension": ".py",
   "mimetype": "text/x-python",
   "name": "python",
   "nbconvert_exporter": "python",
   "pygments_lexer": "ipython3",
   "version": "3.6.5"
  }
 },
 "nbformat": 4,
 "nbformat_minor": 2
}
